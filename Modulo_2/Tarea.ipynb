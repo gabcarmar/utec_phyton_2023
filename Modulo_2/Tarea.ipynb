{
  "nbformat": 4,
  "nbformat_minor": 0,
  "metadata": {
    "colab": {
      "provenance": [],
      "authorship_tag": "ABX9TyOCb6k+46dwvgToYYz1hm7X",
      "include_colab_link": true
    },
    "kernelspec": {
      "name": "python3",
      "display_name": "Python 3"
    },
    "language_info": {
      "name": "python"
    }
  },
  "cells": [
    {
      "cell_type": "markdown",
      "metadata": {
        "id": "view-in-github",
        "colab_type": "text"
      },
      "source": [
        "<a href=\"https://colab.research.google.com/github/gabcarmar/utec_phyton_2023/blob/main/Modulo_2/Tarea.ipynb\" target=\"_parent\"><img src=\"https://colab.research.google.com/assets/colab-badge.svg\" alt=\"Open In Colab\"/></a>"
      ]
    },
    {
      "cell_type": "code",
      "source": [
        "\n",
        "#Ejercicio 5\n",
        "#Haga una lista de los múltiplos de 3 de 3 a 30. Use un ciclo for para imprimir los números en su lista.\n",
        "multiplos = []\n",
        "\n",
        "for i in range(3, 30+1):\n",
        "    if i%3 == 0:\n",
        "     multiplos.append(i)\n",
        "    \n",
        "print(multiplos)"
      ],
      "metadata": {
        "colab": {
          "base_uri": "https://localhost:8080/"
        },
        "id": "zL-zbzoEmIty",
        "outputId": "334896f1-5a35-40fb-b38f-34a5735ca7fe"
      },
      "execution_count": null,
      "outputs": [
        {
          "output_type": "stream",
          "name": "stdout",
          "text": [
            "[3, 6, 9, 12, 15, 18, 21, 24, 27, 30]\n"
          ]
        }
      ]
    },
    {
      "cell_type": "code",
      "source": [
        "\n",
        "#Ejercicio 6\n",
        "#Haga una lista de los primeros 10 cubos (es decir, el cubo de cada número entero del 1 al 10) y use un ciclo for para imprimir el valor de cada cubo.\n",
        "\n",
        "cubos = []\n",
        "\n",
        "for i in range(1, 11):\n",
        "    cubos.append(i**3)\n",
        "    \n",
        "print(cubos)"
      ],
      "metadata": {
        "colab": {
          "base_uri": "https://localhost:8080/"
        },
        "id": "u-duj6zep3oq",
        "outputId": "73a26289-0184-4ea9-f195-7f781390655f"
      },
      "execution_count": null,
      "outputs": [
        {
          "output_type": "stream",
          "name": "stdout",
          "text": [
            "[1, 8, 27, 64, 125, 216, 343, 512, 729, 1000]\n"
          ]
        }
      ]
    },
    {
      "cell_type": "code",
      "source": [
        "\n",
        "#Ejercicio 7\n",
        "#Use una lista de comprensión para generar una lista de los primeros 10 cubos.\n",
        "\n",
        "cubos = [x**3 for x in range(1,11) ]\n",
        "print(cubos)\n"
      ],
      "metadata": {
        "colab": {
          "base_uri": "https://localhost:8080/"
        },
        "id": "rgVYTMW6qLds",
        "outputId": "90a5cdf8-49fd-4fcd-e8a1-d31e2e3036f7"
      },
      "execution_count": null,
      "outputs": [
        {
          "output_type": "stream",
          "name": "stdout",
          "text": [
            "[1, 8, 27, 64, 125, 216, 343, 512, 729, 1000]\n"
          ]
        }
      ]
    }
  ]
}